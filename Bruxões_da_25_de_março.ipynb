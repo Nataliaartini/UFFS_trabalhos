{
  "nbformat": 4,
  "nbformat_minor": 0,
  "metadata": {
    "colab": {
      "name": "Bruxões da 25 de março.ipynb",
      "provenance": [],
      "collapsed_sections": [],
      "include_colab_link": true
    },
    "kernelspec": {
      "display_name": "Python 3",
      "name": "python3"
    },
    "language_info": {
      "name": "python"
    }
  },
  "cells": [
    {
      "cell_type": "markdown",
      "metadata": {
        "id": "view-in-github",
        "colab_type": "text"
      },
      "source": [
        "<a href=\"https://colab.research.google.com/github/Nataliaartini/UFFS_trabalhos/blob/main/Brux%C3%B5es_da_25_de_mar%C3%A7o.ipynb\" target=\"_parent\"><img src=\"https://colab.research.google.com/assets/colab-badge.svg\" alt=\"Open In Colab\"/></a>"
      ]
    },
    {
      "cell_type": "markdown",
      "metadata": {
        "id": "ta_Mp96VTfX2"
      },
      "source": [
        "\n",
        "loja virtual > trabalho final algoritmos\n",
        "---\n",
        "\n"
      ]
    },
    {
      "cell_type": "code",
      "metadata": {
        "id": "yjZlGCfu8alc"
      },
      "source": [
        "nomeCliente = []\n",
        "cpfCliente = []\n",
        "emailCliente = []\n",
        "senhaCliente = []"
      ],
      "execution_count": null,
      "outputs": []
    },
    {
      "cell_type": "code",
      "metadata": {
        "id": "huUu3wdCTcfn"
      },
      "source": [
        "#função para cadastrar cliente\n",
        "def criarCliente():\n",
        "  print(\"------------------------------------------\")\n",
        "  nome = input(\"Digite o nome: \")\n",
        "  cpf = input(\"Digite o CPF: \")\n",
        "  email = input(\"Digite o email: \")\n",
        "  senha = input(\"Digite a senha: \")\n",
        "  print(\"------------------------------------------\")\n",
        "\n",
        "  if not validaCpf(cpf):\n",
        "    return False\n",
        "\n",
        "  nomeCliente.append(nome)\n",
        "  cpfCliente.append(cpf)\n",
        "  emailCliente.append(email)\n",
        "  senhaCliente.append(senha)\n",
        "  print(\"Cliente cadastrado com sucesso!\")\n",
        "\n",
        "def validaCpf(cpf):\n",
        "  if not cpfIsNumber(cpf):\n",
        "    print(\"CPF deve conter apenas numeros!\")\n",
        "    return False\n",
        "\n",
        "  if len(cpf) != 11:\n",
        "    print(\"CPF deve ter 11 digitos!\")\n",
        "    return False\n",
        "\n",
        "  if cpf in cpfCliente:\n",
        "    print(f\"CPF ja existente, associado ao nome {nomeCliente[cpfCliente.Index(cpf)]}\")\n",
        "    return False\n",
        "\n",
        "  if not validacaoAvancadaCpf(cpf):\n",
        "    print(\"CPF não atende os requisitos de um cpf válido\")\n",
        "    return False\n",
        "  \n",
        "  return True\n",
        "\n",
        "def cpfIsNumber(cpf):\n",
        "  try:\n",
        "    if int(cpf) > 0:\n",
        "      return True\n",
        "    else:\n",
        "      return False\n",
        "  except:\n",
        "    return False \n",
        "\n",
        "def validacaoAvancadaCpf(cpf):\n",
        "  cpfValido = calcDigitoValidador(cpf[0:9])\n",
        "  cpfValido = calcDigitoValidador(cpfValido)\n",
        "\n",
        "  if cpf == cpfValido:\n",
        "    return True\n",
        "  else:\n",
        "    return False\n",
        "\n",
        "def calcDigitoValidador(cpf):\n",
        "  result = 0\n",
        "  digito = 0\n",
        "  for multiplicador in range(len(cpf)+1, 1, -1):\n",
        "    result += int(cpf[digito]) * multiplicador\n",
        "    digito += 1\n",
        "\n",
        "  if result % 11 < 2:\n",
        "    cpf += \"0\"\n",
        "  else:\n",
        "    cpf += str(11 - (result % 11))\n",
        "  \n",
        "  return cpf\n"
      ],
      "execution_count": null,
      "outputs": []
    },
    {
      "cell_type": "code",
      "metadata": {
        "id": "XisULlz6GtKB"
      },
      "source": [
        "#loop para chamar o menu\n",
        "while True:\n",
        "  print(\"------------------------------------------\")\n",
        "  print(\"1 - Cadastrar novos clientes\")\n",
        "  print(\"2 - Compras\")\n",
        "  print(\"3 - Mostrar carrinho\")\n",
        "  print(\"4 - Pagar conta\")\n",
        "  print(\"5 - Consultar cliente\")\n",
        "  print(\"6 - Mostrar produtos\")\n",
        "  print(\"Outro valor - Encerrar a execução\")\n",
        "  opcao = int(input(\"Escolha uma operação: \"))\n",
        "  print(\"------------------------------------------\")\n",
        "\n",
        "  if opcao == 1:\n",
        "    criarCliente()\n",
        "  else:\n",
        "    break"
      ],
      "execution_count": null,
      "outputs": []
    },
    {
      "cell_type": "code",
      "metadata": {
        "id": "x3umCrxEQbrP"
      },
      "source": [
        "#cadastro de produtos\n",
        "def produtos():\n",
        "  P1= float (150.00)\n",
        "  P2= float (170.00)\n",
        "  P3= float (50.00)\n",
        "  P4= float (25.00)\n",
        "  P5= float (13.00)\n",
        "  P6= float (19.87)\n",
        "  return \n",
        "\n",
        "#opções de produtos para compras\n",
        "while True:\n",
        "  print(\"------------------------------------------\")\n",
        "  print('1' \"=barbie butterfly R$ 150.00\")\n",
        "  print('2' \"=pista hot wheels R$ 170.00\")\n",
        "  print('3' \"=bonecos carreta furacão R$ 350.00\")\n",
        "  print('4' \"=batman do paraguai R$ 25.00\")\n",
        "  print('5' \"=fantasia zé gotinha R$ 13.00\")\n",
        "  print('6' \"=fusquinha PEPE Mujica R$ 19.87\") \n",
        "  print('Outro valor - Encerrar a execução')\n",
        "  item= (input(\"Escolha os produtos: \"))\n",
        "  print(\"------------------------------------------\")\n",
        "  if item=='1':\n",
        "    produtos()\n",
        "  elif item=='2':\n",
        "    produtos()\n",
        "  elif item=='3':\n",
        "    produtos()\n",
        "  elif item=='4':\n",
        "    produtos()\n",
        "  elif item=='5':\n",
        "    produtos()\n",
        "  elif item=='6':\n",
        "    produtos()\n",
        "  else:\n",
        "    break\n",
        "\n",
        "item.append(item)\n",
        "print(item)\n",
        "for i in item:\n",
        "  i+=1\n",
        "  soma=i+item\n",
        "  if soma>1000.00:\n",
        "    break"
      ],
      "execution_count": null,
      "outputs": []
    }
  ]
}