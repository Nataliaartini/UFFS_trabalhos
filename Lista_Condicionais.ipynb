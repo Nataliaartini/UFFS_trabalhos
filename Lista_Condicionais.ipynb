{
  "nbformat": 4,
  "nbformat_minor": 0,
  "metadata": {
    "colab": {
      "name": "resolvida Lista_Condicionais",
      "provenance": [],
      "collapsed_sections": []
    },
    "kernelspec": {
      "name": "python3",
      "display_name": "Python 3"
    }
  },
  "cells": [
    {
      "cell_type": "markdown",
      "metadata": {
        "id": "PMQPEbxWEX0y"
      },
      "source": [
        "1 - Faça um programa que peça o número de horas trabalhadas e o valor da hora de um determinado funcionário. Em seguida, calcule o salário do funcionário. Caso o funcionário tenha trabalhado mais de 200 horas, o salário final é acrescido de 5%. Exemplos de execução:\n",
        "```\n",
        "Horas trabalhadas: 120\t |\t\t\tHoras trabalhadas: 210\n",
        "Valor da hora: 100,00\t  |\t\t\tValor da hora: 50.00\n",
        "Salário: 12000.00\t  \t|\t\t    Salário: 11025.00\n",
        "```"
      ]
    },
    {
      "cell_type": "code",
      "metadata": {
        "id": "o8b8GJOcESWz",
        "colab": {
          "base_uri": "https://localhost:8080/"
        },
        "outputId": "e270645f-2afd-4c02-a33d-47851e7de229"
      },
      "source": [
        "ht=int (input(\"digite quantas horas foi trabalhado: \"))\n",
        "hv=float (input(\"digite o valor por hora trabalhada: \"))\n",
        "s=ht*hv\n",
        "if ht>=200:\n",
        "  print(f\"o salário é {s*0.05+s}\")\n",
        "else:\n",
        "  print(s)"
      ],
      "execution_count": null,
      "outputs": [
        {
          "output_type": "stream",
          "text": [
            "digite quantas horas foi trabalhado: 200\n",
            "digite o valor por hora trabalhada: 1\n",
            "o salário é 210.0\n"
          ],
          "name": "stdout"
        }
      ]
    },
    {
      "cell_type": "markdown",
      "metadata": {
        "id": "ung40oLeEn-E"
      },
      "source": [
        "2 - Uma fruteira vende maçãs com 2 preços: R\\$ 0,30 até 12 unidades e R\\$ 0,25 acima de 12 unidades. Faça um programa que peça a quantidade de maçãs compradas e calcule e apresente o valor a ser pago. Exemplos de execução:\n",
        "\n",
        "```\n",
        "Quantidade comprada: 10\t\t|\t\tQuantidade comprada: 20\n",
        "Valor a pagar: 3.00\t\t\t|   \t Valor a pagar: 5.00\n",
        "```"
      ]
    },
    {
      "cell_type": "code",
      "metadata": {
        "id": "2fFP-BuyE1vT",
        "colab": {
          "base_uri": "https://localhost:8080/"
        },
        "outputId": "d18d0f40-ee16-45c4-c43a-f50eb48e9dfd"
      },
      "source": [
        "c=int (input(\"Quantas maçãs foram compradas? \"))\n",
        "if c<12:\n",
        "  print(f\"o valor para {c} maçãs é R$ {c*0.3:.2}\")\n",
        "else:\n",
        "  print(f\"o valor para {c} maçãs é R$ {c*0.25}\")"
      ],
      "execution_count": null,
      "outputs": [
        {
          "output_type": "stream",
          "text": [
            "Quantas maçãs foram compradas? 63\n",
            "o valor para 63 maçãs é R$ 15.75\n"
          ],
          "name": "stdout"
        }
      ]
    },
    {
      "cell_type": "markdown",
      "metadata": {
        "id": "XibOAIjWE2E9"
      },
      "source": [
        "3 - Uma loja vende produtos à vista e a prazo (pagamento 30 dias após a compra). À vista tem um desconto de 5% e a prazo um acréscimo de 10%. Faça um programa em Python que peça o preço do produto e a forma de pagamento: 1 para à vista e 2 para a prazo. Depois apresente o preço final do produto. Exemplos de execução:\n",
        "\n",
        "```\n",
        "# Preço do produto: 120.00   \t|\t\t  Preço do produto: 200.00\n",
        "Forma de pagamento: 1\t\t\t|\t\t  Forma de pagamento: 2\n",
        "Preço a vista: 114.00\t\t\t|\t\t  Preço a prazo: 220.00\n",
        "```"
      ]
    },
    {
      "cell_type": "code",
      "metadata": {
        "id": "d3LzKbWQFcz9",
        "colab": {
          "base_uri": "https://localhost:8080/"
        },
        "outputId": "42a248de-ae71-44e9-b902-4250f50ad6e7"
      },
      "source": [
        "preco=float (input(\"Qual é o preço da compra feita? \"))\n",
        "pag=int (input(\"Informe o plano de pagamento: (1 ou 2) 1\"))\n",
        "if pag == 1:\n",
        "  print(preco-(preco*0.05))\n",
        "else:\n",
        "  print(preco+(preco*0.10))"
      ],
      "execution_count": null,
      "outputs": [
        {
          "output_type": "stream",
          "text": [
            "Qual é o preço da compra feita?100\n",
            "Informe o plano de pagamento: (1 ou 2) 2\n",
            "110.0\n"
          ],
          "name": "stdout"
        }
      ]
    },
    {
      "cell_type": "markdown",
      "metadata": {
        "id": "e4T3cElLFdMM"
      },
      "source": [
        "4 - Uma eleição possui 2 candidatos: João da Chape e José da Chape. Faça um programa que peça o número de votos de cada um e apresente o vencedor ou se houve empate. \n"
      ]
    },
    {
      "cell_type": "code",
      "metadata": {
        "id": "CnO-b0kBFeFV",
        "colab": {
          "base_uri": "https://localhost:8080/"
        },
        "outputId": "1ce1c233-f4df-45f4-85d0-1ebaf2364592"
      },
      "source": [
        "c1=int (input(\"Quantos votos teve João da Chape? \"))\n",
        "c2=int (input(\"Quantos votos teve José da Chape? \"))\n",
        "if c1==c2:\n",
        "  print(\"os candidatos estão empatados.\")\n",
        "else:\n",
        "  if c1>c2:\n",
        "    print(\"O candidato João da Chape está ganhando!\")\n",
        "  else:\n",
        "    print(\"O candidato José da Chape está ganhando!\")"
      ],
      "execution_count": null,
      "outputs": [
        {
          "output_type": "stream",
          "text": [
            "Quantos votos teve João da Chape? 0\n",
            "Quantos votos teve José da Chape? 0\n",
            "os candidatos estão empatados.\n"
          ],
          "name": "stdout"
        }
      ]
    },
    {
      "cell_type": "markdown",
      "metadata": {
        "id": "ONK0GyV3FeYk"
      },
      "source": [
        "5 - Faça um programa que leia 2 números e informe se os mesmos são múltiplos, ou seja, um divide o outro sem resto. Exemplo de execução:\n",
        "```\n",
        "1º Número: 12\n",
        "2º Número: 4\t\n",
        "São múltiplos\n",
        "```"
      ]
    },
    {
      "cell_type": "code",
      "metadata": {
        "id": "I0UWuGvRFzge",
        "colab": {
          "base_uri": "https://localhost:8080/"
        },
        "outputId": "7ab1e86b-4727-4b8a-87af-117ed29c4e65"
      },
      "source": [
        "a,b = map (int , input(\"Insira dois números quaisquer: \").split(\",\"))\n",
        "if a%b==0:\n",
        "  print(f\"esses dois números {a,b} são divisíveis.\")\n",
        "else:\n",
        "  if b%a==0:\n",
        "    print(f\"esses dois números {a,b} são divisíveis.\")\n",
        "  else:\n",
        "    print(f\"esses dois números {a,b} não são divisíveis.\")"
      ],
      "execution_count": null,
      "outputs": [
        {
          "output_type": "stream",
          "text": [
            "Insira dois números quaisquer: 6,5\n",
            "esses dois número (6, 5) não são divisiveis.\n"
          ],
          "name": "stdout"
        }
      ]
    },
    {
      "cell_type": "markdown",
      "metadata": {
        "id": "tSG0Cff1Fz9c"
      },
      "source": [
        "6 - Faça um programa que calcule a duração de um evento qualquer. Para tal, o programa pede a hora de início e hora de fim (sem os minutos), as horas serão informadas de 0 a 23. Perceba que um evento pode começar em um dia e acabar em outro. Os eventos nunca duram mais de 24 horas. Exemplos de execução:\n",
        "```\n",
        "Início: 12\t\n",
        "Fim: 4\t\t\n",
        "Duração: 16 horas\t\n",
        "```"
      ]
    },
    {
      "cell_type": "code",
      "metadata": {
        "id": "S9GZ383NF1WU",
        "colab": {
          "base_uri": "https://localhost:8080/"
        },
        "outputId": "db214d6e-8688-49aa-f8c6-2fcb2fa6f865"
      },
      "source": [
        "while True:\n",
        "  hi=int (input(\"Diga a hora de inicio do teu evento: \"))\n",
        "  if hi>=0 and hi<=23:\n",
        "    break\n",
        "  else:\n",
        "    print(\"valor inválido, digite novamente.\")\n",
        "while True:\n",
        "  hf=int (input(\"Diga a hora que acaba o teu evento: \"))\n",
        "  if hf>=0 and hf<=23:\n",
        "    break\n",
        "  else:\n",
        "    print(\"valor inválido, digite novamente.\")\n",
        "if hi < hf:\n",
        "  print(f\"O teu evento irá durar:{hf-hi} hrs.\")\n",
        "else:\n",
        "  print(f\"O teu evento vai durar: {24-hi+hf} hrs.\")"
      ],
      "execution_count": null,
      "outputs": [
        {
          "output_type": "stream",
          "text": [
            "Diga a hora de inicio do teu evento: 2\n",
            "Diga a hora que acaba o teu evento: 18\n",
            "O teu evento irá durar:16 hrs.\n"
          ],
          "name": "stdout"
        }
      ]
    }
  ]
}