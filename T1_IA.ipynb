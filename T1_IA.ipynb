{
  "nbformat": 4,
  "nbformat_minor": 0,
  "metadata": {
    "colab": {
      "provenance": [],
      "include_colab_link": true
    },
    "kernelspec": {
      "name": "python3",
      "display_name": "Python 3"
    },
    "language_info": {
      "name": "python"
    }
  },
  "cells": [
    {
      "cell_type": "markdown",
      "metadata": {
        "id": "view-in-github",
        "colab_type": "text"
      },
      "source": [
        "<a href=\"https://colab.research.google.com/github/Nataliaartini/UFFS_trabalhos/blob/main/T1_IA.ipynb\" target=\"_parent\"><img src=\"https://colab.research.google.com/assets/colab-badge.svg\" alt=\"Open In Colab\"/></a>"
      ]
    },
    {
      "cell_type": "markdown",
      "source": [
        "Trabalho 1 inteligência artificial:\n",
        "alunas: anna carolina, natalia artini"
      ],
      "metadata": {
        "id": "Q5SL0kR0U9cO"
      }
    },
    {
      "cell_type": "code",
      "source": [
        "# from google.colab import files\n",
        "# uploaded = files.upload()"
      ],
      "metadata": {
        "id": "Lj8ukd0kXdsg"
      },
      "execution_count": null,
      "outputs": []
    },
    {
      "cell_type": "markdown",
      "source": [
        "# Código daqui para baixo só usando opencv"
      ],
      "metadata": {
        "id": "SrQDsrMQtPjX"
      }
    },
    {
      "cell_type": "code",
      "source": [
        "import matplotlib as mpl\n",
        "import matplotlib.pyplot as plt\n",
        "from sklearn.cluster import KMeans\n",
        "import cv2\n",
        "from google.colab.patches import cv2_imshow\n",
        "\n",
        "image = cv2.imread('coraline.png')\n",
        "print(image.shape)\n"
      ],
      "metadata": {
        "id": "JsacYljQqhOk"
      },
      "execution_count": null,
      "outputs": []
    },
    {
      "cell_type": "code",
      "source": [
        "cv2_imshow(image)"
      ],
      "metadata": {
        "id": "BsRFS54UsCsL"
      },
      "execution_count": null,
      "outputs": []
    },
    {
      "cell_type": "code",
      "source": [
        "X = image.reshape(-1,3)\n",
        "\n",
        "kmeans = KMeans(n_clusters=10, n_init=10, random_state=42)\n",
        "kmeans.fit(X)\n",
        "segmented_image = kmeans.cluster_centers_[kmeans.labels_]\n",
        "segmented_image = segmented_image.reshape(image.shape)\n",
        "segmented_image.shape"
      ],
      "metadata": {
        "id": "UHsyymyvrDYb"
      },
      "execution_count": null,
      "outputs": []
    },
    {
      "cell_type": "code",
      "source": [
        "cv2_imshow(segmented_image)"
      ],
      "metadata": {
        "id": "OHPyrlCyruJw"
      },
      "execution_count": null,
      "outputs": []
    },
    {
      "cell_type": "code",
      "source": [
        "cv2.imwrite('teste2.png', segmented_image)"
      ],
      "metadata": {
        "id": "ZJlvvxcqrWC-"
      },
      "execution_count": null,
      "outputs": []
    },
    {
      "cell_type": "code",
      "source": [
        "cv2_imshow(cv2.imread('teste2.png'))"
      ],
      "metadata": {
        "id": "jvNIJlsqtB2T"
      },
      "execution_count": null,
      "outputs": []
    },
    {
      "cell_type": "markdown",
      "source": [
        "## Este código executa tudo de uma vez só\n",
        "\n",
        "Basta incluir os nomes das imagens na lista `imagens` e o número de clusters que você precisa para cada imagem em `clusters`. Este código salva as imagens como `segmented_numero-clusters_nome-imagem-original.png`.\n"
      ],
      "metadata": {
        "id": "-RSSo1XBu2PG"
      }
    },
    {
      "cell_type": "code",
      "source": [
        "import matplotlib as mpl\n",
        "import matplotlib.pyplot as plt\n",
        "from sklearn.cluster import KMeans\n",
        "import cv2\n",
        "from google.colab.patches import cv2_imshow\n",
        "import numpy as np\n",
        "import os\n",
        "\n",
        "\n",
        "imagens = []\n",
        "imagens.append('coraline.png')\n",
        "imagens.append('coraline2.png')\n",
        "imagens.append('corpse.png')\n",
        "imagens.append('jack.png')\n",
        "imagens.append('jacksally.png')\n",
        "imagens.append('victor.png')\n",
        "\n",
        "clusters = [5]\n",
        "\n",
        "for imagem in imagens:\n",
        "    for kcluster in clusters:\n",
        "        image = cv2.imread(imagem)\n",
        "        X = image.reshape(-1,3)\n",
        "        kmeans = KMeans(n_clusters=kcluster, n_init=10, random_state=42)\n",
        "        kmeans.fit(X)\n",
        "        segmented_image = kmeans.cluster_centers_[kmeans.labels_]\n",
        "        segmented_image = segmented_image.reshape(image.shape)\n",
        "        segmented_image.shape\n",
        "        cv2.imwrite(f'segmented_{kcluster}_{imagem}', segmented_image)\n",
        "\n",
        "        print(f'Colors in the image before processing:',len(np.unique(image)))\n",
        "        print(f'Colors in the image:',len(np.unique(segmented_image))) #retorna quantidade de cores diferentes\n",
        "\n",
        "        file_size = os.path.getsize(f'segmented_{kcluster}_{imagem}')\n",
        "        print(\"File Size is :\", file_size/1000, \"Kbytes\") #retorna tamanho em KBytes"
      ],
      "metadata": {
        "id": "Mzn2pFZwtIr5",
        "outputId": "9818f14c-2433-49cd-8140-f2775e7892b5",
        "colab": {
          "base_uri": "https://localhost:8080/"
        }
      },
      "execution_count": null,
      "outputs": [
        {
          "output_type": "stream",
          "name": "stdout",
          "text": [
            "Colors in the image before processing: 256\n",
            "Colors in the image: 15\n",
            "File Size is : 337.471 Kbytes\n",
            "Colors in the image before processing: 256\n",
            "Colors in the image: 15\n",
            "File Size is : 1012.955 Kbytes\n",
            "Colors in the image before processing: 256\n",
            "Colors in the image: 15\n",
            "File Size is : 503.586 Kbytes\n",
            "Colors in the image before processing: 256\n",
            "Colors in the image: 15\n",
            "File Size is : 411.505 Kbytes\n",
            "Colors in the image before processing: 256\n",
            "Colors in the image: 15\n",
            "File Size is : 610.59 Kbytes\n",
            "Colors in the image before processing: 256\n",
            "Colors in the image: 15\n",
            "File Size is : 310.211 Kbytes\n"
          ]
        }
      ]
    },
    {
      "cell_type": "markdown",
      "source": [
        "esse aqui pega as cores"
      ],
      "metadata": {
        "id": "YgrYnQY6ZQSr"
      }
    },
    {
      "cell_type": "code",
      "source": [
        "import matplotlib as mpl\n",
        "import matplotlib.pyplot as plt\n",
        "from sklearn.cluster import KMeans\n",
        "import cv2\n",
        "import numpy as np\n",
        "import os\n",
        "from PIL import Image\n",
        "\n",
        "def coresUnicas(imagem):\n",
        "    img = Image.open(imagem)\n",
        "    coresUnicas = set()\n",
        "\n",
        "    w, h = img.size\n",
        "    for x in range(w):\n",
        "        for y in range(h):\n",
        "            pixel = img.getpixel((x, y))\n",
        "            coresUnicas.add(pixel)\n",
        "\n",
        "    coresUnicasTotal = len(coresUnicas)\n",
        "    return coresUnicasTotal\n",
        "\n",
        "\n",
        "\n",
        "\n",
        "imagens = []\n",
        "imagens.append('coraline.png')\n",
        "imagens.append('coraline2.png')\n",
        "imagens.append('corpse.png')\n",
        "imagens.append('jack.png')\n",
        "imagens.append('jacksally.png')\n",
        "imagens.append('victor.png')\n",
        "\n",
        "clusters = [1]\n",
        "\n",
        "for imagem in imagens:\n",
        "    for kcluster in clusters:\n",
        "        image = cv2.imread(imagem)\n",
        "        X = image.reshape(-1,3)\n",
        "        kmeans = KMeans(n_clusters=kcluster, n_init=10, random_state=42)\n",
        "        kmeans.fit(X)\n",
        "        segmented_image = kmeans.cluster_centers_[kmeans.labels_]\n",
        "        segmented_image = segmented_image.reshape(image.shape)\n",
        "        segmented_image.shape\n",
        "        cv2.imwrite(f'segmented_{kcluster}_{imagem}', segmented_image)\n",
        "\n",
        "        print(f'Colors in the image before processing:',coresUnicas(imagem))\n",
        "\n",
        "        print(f'Colors in the image:',coresUnicas(f'segmented_{kcluster}_{imagem}')) #retorna quantidade de cores diferentes\n",
        "\n",
        "        file_size = os.path.getsize(f'segmented_{kcluster}_{imagem}')\n",
        "        print(\"File Size is :\", file_size/1000, \"Kbytes\") #retorna tamanho em KBytes\n",
        "\n"
      ],
      "metadata": {
        "id": "UdDCWhDYZO5l"
      },
      "execution_count": null,
      "outputs": []
    }
  ]
}