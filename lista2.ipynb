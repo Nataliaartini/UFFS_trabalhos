{
  "nbformat": 4,
  "nbformat_minor": 0,
  "metadata": {
    "colab": {
      "name": "resolvida de lista2.ipynb",
      "provenance": [],
      "collapsed_sections": [],
      "include_colab_link": true
    },
    "kernelspec": {
      "name": "python3",
      "display_name": "Python 3"
    }
  },
  "cells": [
    {
      "cell_type": "markdown",
      "metadata": {
        "id": "view-in-github",
        "colab_type": "text"
      },
      "source": [
        "<a href=\"https://colab.research.google.com/github/Nataliaartini/UFFS_trabalhos/blob/main/lista2.ipynb\" target=\"_parent\"><img src=\"https://colab.research.google.com/assets/colab-badge.svg\" alt=\"Open In Colab\"/></a>"
      ]
    },
    {
      "cell_type": "markdown",
      "metadata": {
        "id": "bpRge3gOLzNu"
      },
      "source": [
        "1 - Faça um programa que leia o raio de um círculo (float) e, em seguida, calcule e exiba os seguintes valores referentes a este círculo:\n",
        "- Diâmetro\n",
        "- Área\n",
        "- Perímetro\n",
        "- Volume de uma esfera com este raio\n",
        "\n",
        "Exemplo de entrada:\n",
        "\n",
        "10.0\n",
        "\n",
        "Exemplo de saída:\n",
        "\n",
        "Diâmetro: 20.0\n",
        "\n",
        "Área: 314,15\n",
        "\n",
        "Perímetro: 62,83\n",
        "\n",
        "Volume: 4188.79"
      ]
    },
    {
      "cell_type": "code",
      "metadata": {
        "id": "9Np2OAXa3UHL",
        "colab": {
          "base_uri": "https://localhost:8080/"
        },
        "outputId": "4943e8e8-1dec-4fca-c16f-26fda455104f"
      },
      "source": [
        "R= float (input(\"Qual é o raio do círculo?\"))\n",
        "D= float (R*2)\n",
        "A= float (3.141592*R**2)\n",
        "P= float (2*3.141562*R)\n",
        "V= float (4*3.141592*R**3)/3\n",
        "print (f\"O diâmetro do círculo é:{round(D,2)}\\nA área é:{round(A,2)}\\nO perímetro é:{round(P,2)}\\nO volume da esfera é:{round(V,2)}\")"
      ],
      "execution_count": null,
      "outputs": [
        {
          "output_type": "stream",
          "text": [
            "Qual é o raio do círculo?15.6\n",
            "O diâmetro do círculo é:31.2\n",
            "A área é:764.54\n",
            "O perímetro é:98.02\n",
            "O volume da esfera é:15902.39\n"
          ],
          "name": "stdout"
        }
      ]
    },
    {
      "cell_type": "markdown",
      "metadata": {
        "id": "VWdg-gsYtMjf"
      },
      "source": [
        "\n",
        "---\n",
        "2 - Escreva um algoritmo para ler o número total de eleitores de um município, o número de votos brancos, nulos e válidos. Calcular e escrever o percentual que cada um representa em relação ao total de eleitores. \n",
        "\n",
        "Exemplo de entrada:\n",
        "\n",
        "\n",
        "*   Digite o número total de eleitores:   1000\n",
        "*   Digite o número de votos brancos: 100\n",
        "*   Digite o total de nulos: 10 \n",
        "*   Digite o total de válidos: 890\n",
        "\n",
        "Exemplo de saída:\n",
        "\n",
        "\n",
        "*   Porcentagem válidos: 89%\n",
        "*   Porcentagem nulos: 1%\n",
        "*   Porcentagem votos brancos: 10%"
      ]
    },
    {
      "cell_type": "code",
      "metadata": {
        "id": "XFj8ftNVtN72",
        "colab": {
          "base_uri": "https://localhost:8080/"
        },
        "outputId": "db1f0618-e081-476f-fd2b-b8e0d78fd422"
      },
      "source": [
        "e=int (input(\"Digite o número total de eleitores: \"))\n",
        "b=int (input(\"Digite o número de votos brancos: \"))\n",
        "n=int (input(\"Digite o total de nulos: \"))\n",
        "v=int (input(\"Digite o total de válidos: \"))\n",
        "\n",
        "print(f\"Porcentagem de votos válidos:{v*100/e}%\\nPorcentagem de votos nulos{n*100/e}%\\nPorcentagem de votos brancos{b*100/e}%\")"
      ],
      "execution_count": null,
      "outputs": [
        {
          "output_type": "stream",
          "text": [
            "Digite o número total de eleitores: 5000\n",
            "Digite o número de votos brancos: 900\n",
            "Digite o total de nulos: 100\n",
            "Digite o total de válidos: 4000\n",
            "Porcentagem de votos válidos:80.0%\n",
            "Porcentagem de votos nulos2.0%\n",
            "Porcentagem de votos brancos18.0%\n"
          ],
          "name": "stdout"
        }
      ]
    },
    {
      "cell_type": "markdown",
      "metadata": {
        "id": "dfbs1Jri8ZbY"
      },
      "source": [
        "---\n",
        "3 - Faça um algoritmo que leia uma medida em pés, faça as conversões e exiba o resultado equivalente em polegadas, jardas e milhas.\n",
        "\n",
        "Entrada:\n",
        "\n",
        "1\n",
        "\n",
        "Saída:\n",
        "\n",
        "Jardas: 0,33333344\n",
        "\n",
        "Polegadas: 12 \n",
        "\n",
        "Milhas: 0,000189394\n",
        "\n",
        "\n",
        "\n",
        "\n",
        "\n"
      ]
    },
    {
      "cell_type": "code",
      "metadata": {
        "id": "FOKhScb2uSaO",
        "colab": {
          "base_uri": "https://localhost:8080/"
        },
        "outputId": "483b68b7-e03e-473a-f08a-b1a70a30fac7"
      },
      "source": [
        "p=float (input(\"Insira o valor em pés:\"))\n",
        "j=float (p/3)\n",
        "pol=float (p*12)\n",
        "m=float (p/5280)\n",
        "print(f\"os valores convertidos são:\\nPolegadas:{round(pol,2)}\\nJardas:{round(j,2)}\\nMilhas:{m:.2}\")"
      ],
      "execution_count": null,
      "outputs": [
        {
          "output_type": "stream",
          "text": [
            "Insira o valor em pés:2\n",
            "os valores convertidos são:\n",
            "Polegadas:24.0\n",
            "Jardas:0.67\n",
            "Milhas:0.00038\n"
          ],
          "name": "stdout"
        }
      ]
    },
    {
      "cell_type": "markdown",
      "metadata": {
        "id": "6ufaKfb7xTWP"
      },
      "source": [
        "---\n",
        "4 - O preço final de um carro novo é a soma do preço de fábrica, do lucro do distribuidor e dos impostos (ambos aplicados ao preço de fábrica). Faça um algoritmo que leia o preço de fábrica de um veículo, o percentual de lucro do distribuidor e o percentual de impostos, calcule e mostre:\n",
        "\n",
        "Entrada: \n",
        "\n",
        "50000,00\n",
        "\n",
        "10\n",
        "\n",
        "10\n",
        "\n",
        "\n",
        "(a) o valor (em reais) correspondente ao lucro do distribuidor;\n",
        "\n",
        "Saída: 5000,00\n",
        "\n",
        "(b) o valor (em reais) correspondente aos impostos;\n",
        "\n",
        "Saída: 5000,00\n",
        "\n",
        "(c) o preço final do veículo (em reais).\n",
        "\n",
        "Saída: 60000,00"
      ]
    },
    {
      "cell_type": "code",
      "metadata": {
        "id": "Cvo8lGnPufF_",
        "colab": {
          "base_uri": "https://localhost:8080/"
        },
        "outputId": "735bd386-c77f-49e5-c57a-d16a28521089"
      },
      "source": [
        "f=float (input(\"Custo do veículo para a fábrica:R$\"))\n",
        "r=float (input(\"Porcentagem do lucro do revendedor:\"))\n",
        "i=float (input(\"POrcentagem dos impostos pagos:\"))\n",
        "custo_venda= (r*f/100)+(i*f/100)+f\n",
        "print(f\"O lucro do revendedor é:R${r*f/100}\\nOs impostos dão:R${i*f/100}\\nO preço final do veículo é:R${custo_venda}\")"
      ],
      "execution_count": null,
      "outputs": [
        {
          "output_type": "stream",
          "text": [
            "Custo do veículo para a fábrica:R$60000\n",
            "Porcentagem do lucro do revendedor:50\n",
            "POrcentagem dos impostos pagos:62\n",
            "O lucro do revendedor é:R$30000.0\n",
            "Os impostos dão:R$37200.0\n",
            "O preço final do veículo é:R$127200.0\n"
          ],
          "name": "stdout"
        }
      ]
    },
    {
      "cell_type": "markdown",
      "metadata": {
        "id": "SI7BPrXdtV4q"
      },
      "source": [
        "---\n",
        "5 (Desafio) - Faça um algoritmo que leia o preço de um produto e o converta para inteiro. Em seguida, calcule quantas cédulas de 100, 50, 20, 10, 5, 2 e moedas de 1 são necessárias para pagar por este produto com o menor número de cédulas/moedas possível.\n",
        "\n",
        "Entrada:\n",
        "\n",
        "132,00\n",
        "\n",
        "Saída:\n",
        "\n",
        "*   Nota(s) de 100: 1\n",
        "*   Nota(s) de 20: 1\n",
        "*   Nota(s) de 10: 1\n",
        "*   Nota(s) de 2: 1\n",
        "\n",
        "\n"
      ]
    },
    {
      "cell_type": "code",
      "metadata": {
        "id": "jpJSB-Xc3Q-J",
        "colab": {
          "base_uri": "https://localhost:8080/"
        },
        "outputId": "094f35ca-80c9-4ece-df52-f4abe2d30047"
      },
      "source": [
        "preco=int (input(\"Qual é o preço do produto? R$:\"))\n",
        "\n",
        "total=0 \n",
        "c1= preco//100 \n",
        "total+=100*c1 if preco//100>0 else 0\n",
        "preco -= 100*c1\n",
        "\n",
        "c2= preco//50\n",
        "total+=50*c2 if preco//50>0 else 0\n",
        "preco -= 50*c2\n",
        "\n",
        "c3= preco//20\n",
        "total+=20*c3 if preco//20>0 else 0\n",
        "preco -= 20*c3\n",
        "\n",
        "c4= preco//10\n",
        "total+=10*c4 if preco//10>0 else 0\n",
        "preco -= 10*c4\n",
        "\n",
        "c5= preco//5\n",
        "total+=5*c5 if preco//5>0 else 0\n",
        "preco -= 5*c5\n",
        "\n",
        "c6= preco//2\n",
        "total+=2*c6 if preco//2>0 else 0\n",
        "preco -= 2*c6\n",
        "\n",
        "c7= preco//1 \n",
        "total+=1 if preco//1>0 else 0\n",
        "\n",
        "if c1 >0:\n",
        "  print(f\"notas de 100:{c1}\")\n",
        "if c2 >0:\n",
        "  print(f\"notas de 50:{c2}\")\n",
        "if c3 >0:\n",
        "  print(f\"notas de 20:{c3}\")\n",
        "if c4 >0:\n",
        "  print(f\"notas de 10:{c4}\")\n",
        "if c5 >0:\n",
        "  print(f\"notas de 5:{c5}\")\n",
        "if c6 >0:\n",
        "  print(f\"notas de 2:{c6}\")\n",
        "if c7 >0:\n",
        "  print(f\"notas de 1:{c7}\")\n",
        "  "
      ],
      "execution_count": null,
      "outputs": [
        {
          "output_type": "stream",
          "text": [
            "Qual é o preço do produto? R$:153\n",
            "notas de 100:1\n",
            "notas de 50:1\n",
            "notas de 2:1\n",
            "notas de 1:1\n"
          ],
          "name": "stdout"
        }
      ]
    }
  ]
}