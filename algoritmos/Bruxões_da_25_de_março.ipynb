{
  "nbformat": 4,
  "nbformat_minor": 0,
  "metadata": {
    "colab": {
      "name": "Bruxões da 25 de março.ipynb",
      "provenance": [],
      "collapsed_sections": [],
      "include_colab_link": true
    },
    "kernelspec": {
      "display_name": "Python 3",
      "name": "python3"
    },
    "language_info": {
      "name": "python"
    }
  },
  "cells": [
    {
      "cell_type": "markdown",
      "metadata": {
        "id": "view-in-github",
        "colab_type": "text"
      },
      "source": [
        "<a href=\"https://colab.research.google.com/github/Nataliaartini/UFFS_trabalhos/blob/main/Brux%C3%B5es_da_25_de_mar%C3%A7o.ipynb\" target=\"_parent\"><img src=\"https://colab.research.google.com/assets/colab-badge.svg\" alt=\"Open In Colab\"/></a>"
      ]
    },
    {
      "cell_type": "markdown",
      "metadata": {
        "id": "ta_Mp96VTfX2"
      },
      "source": [
        "\n",
        "loja virtual > trabalho final algoritmos\n",
        "---\n",
        "\n"
      ]
    },
    {
      "cell_type": "code",
      "metadata": {
        "id": "yjZlGCfu8alc"
      },
      "source": [
        "clientes = []\n",
        "\n",
        "class Carrinho:\n",
        "  produtos=[]\n",
        "  qtdPorProduto=[]\n",
        "\n",
        "class Cliente:\n",
        "  nome=\"\"\n",
        "  cpf=\"\"\n",
        "  email=\"\"\n",
        "  senha=\"\"\n",
        "  aPagar=0\n",
        "  carrinho=Carrinho()\n",
        "\n",
        "clienteLogado = None"
      ],
      "execution_count": null,
      "outputs": []
    },
    {
      "cell_type": "code",
      "metadata": {
        "id": "huUu3wdCTcfn"
      },
      "source": [
        "#função para cadastrar cliente\n",
        "def criarCliente():\n",
        "  print(\"------------------------------------------\")\n",
        "  nome = input(\"Digite o nome: \")\n",
        "  cpf = input(\"Digite o CPF: \")\n",
        "  email = input(\"Digite o email: \")\n",
        "  senha = input(\"Digite a senha: \")\n",
        "  print(\"------------------------------------------\")\n",
        "\n",
        "  if len(senha)<6:\n",
        "    print(\"Senha deve conter ao menos 6 digitos!\")\n",
        "    return False\n",
        "\n",
        "  if not validaCpf(cpf):\n",
        "    return False\n",
        "\n",
        "  cliente = Cliente()\n",
        "  cliente.nome = nome\n",
        "  cliente.cpf = cpf\n",
        "  cliente.email = email\n",
        "  cliente.senha = senha\n",
        "  clientes.append(cliente)\n",
        "\n",
        "  print(\"Cliente cadastrado com sucesso!\")\n",
        "\n",
        "#funções de validação do CPF\n",
        "def validaCpf(cpf):\n",
        "  if not cpfIsNumber(cpf):\n",
        "    print(\"CPF deve conter apenas numeros!\")\n",
        "    return False\n",
        "\n",
        "  if len(cpf) != 11:\n",
        "    print(\"CPF deve ter 11 digitos!\")\n",
        "    return False\n",
        "\n",
        "  for c in clientes:\n",
        "    if cpf == c.cpf:\n",
        "      print(f\"CPF ja existente, associado ao nome {c.nome}\")\n",
        "      return False\n",
        "\n",
        "  if not validacaoAvancadaCpf(cpf):\n",
        "    print(\"CPF não atende os requisitos de um cpf válido\")\n",
        "    return False\n",
        "  \n",
        "  return True\n",
        "\n",
        "def cpfIsNumber(cpf):\n",
        "  try:\n",
        "    if int(cpf) > 0:\n",
        "      return True\n",
        "    else:\n",
        "      return False\n",
        "  except:\n",
        "    return False \n",
        "\n",
        "def validacaoAvancadaCpf(cpf):\n",
        "  cpfValido = calcDigitoValidador(cpf[0:9])\n",
        "  cpfValido = calcDigitoValidador(cpfValido)\n",
        "\n",
        "  if cpf == cpfValido:\n",
        "    return True\n",
        "  else:\n",
        "    return False\n",
        "\n",
        "def calcDigitoValidador(cpf):\n",
        "  result = 0\n",
        "  digito = 0\n",
        "  for multiplicador in range(len(cpf)+1, 1, -1):\n",
        "    result += int(cpf[digito]) * multiplicador\n",
        "    digito += 1\n",
        "\n",
        "  if result % 11 < 2:\n",
        "    cpf += \"0\"\n",
        "  else:\n",
        "    cpf += str(11 - (result % 11))\n",
        "  \n",
        "  return cpf"
      ],
      "execution_count": null,
      "outputs": []
    },
    {
      "cell_type": "code",
      "metadata": {
        "id": "0y5_TXp0ZjdQ"
      },
      "source": [
        "#função para consultar cliente\n",
        "def consultarCiente():\n",
        "  cpf = input(\"Digite o CPF: \")\n",
        "  for cliente in clientes:\n",
        "    if cliente.cpf == cpf:\n",
        "      print(f\"nome: {cliente.nome}\")\n",
        "      print(f\"email: {cliente.email}\")\n",
        "      return True\n",
        "  \n",
        "  print(\"Usuario não encontrado!\")\n",
        "  return False\n",
        "\n",
        "  "
      ],
      "execution_count": null,
      "outputs": []
    },
    {
      "cell_type": "code",
      "metadata": {
        "id": "bt2rv-3BdDeA"
      },
      "source": [
        "#funcao para logar\n",
        "def logar():\n",
        "  login = input(\"Informe o email: \")\n",
        "  senha = input(\"Informe a senha: \")\n",
        "  for cliente in clientes:\n",
        "    if cliente.email == login and cliente.senha == senha:\n",
        "      print(f\"Login realizado! Cliente: {cliente.nome}\")\n",
        "      return cliente\n",
        "    else:\n",
        "      print(\"Dados incorretos!\")\n",
        "      return None\n",
        "  \n"
      ],
      "execution_count": null,
      "outputs": []
    },
    {
      "cell_type": "code",
      "metadata": {
        "id": "x3umCrxEQbrP"
      },
      "source": [
        "#cadastro de produtos, parâmetros\n",
        "class Produto:\n",
        "  def __init__(self, id, name, value):\n",
        "    self.id=id\n",
        "    self.nome=name\n",
        "    self.valor=value\n",
        "\n",
        "#lista de produtos para compras\n",
        "produtos = []\n",
        "produtos.append(Produto(1, 'barbie butterfly', 150.00))\n",
        "produtos.append(Produto(2, 'pista hot wheels', 170.00))\n",
        "produtos.append(Produto(3, 'bonecos carreta furacão', 50.00))\n",
        "produtos.append(Produto(4, 'batman do paraguai', 25.00))\n",
        "produtos.append(Produto(5, 'fantasia zé gotinha', 130.00))\n",
        "produtos.append(Produto(6, 'fusquinha PEPE Mujica', 19.87))\n",
        "produtos.append(Produto(7, 'carteira de derby', 3.00))\n",
        "produtos.append(Produto(8, 'litro de selvagem', 10.00))\n",
        "produtos.append(Produto(9, 'blu ray lagoa azul', 75.00))\n",
        "produtos.append(Produto(10, 'inscrição do Enem',  90.00))\n",
        "produtos.append(Produto(11, '3ª temp. banheira do GUGU',  99.90))\n",
        "produtos.append(Produto(12, 'coletânea os melhores de Adam Sandler',  320.00))\n",
        "produtos.append(Produto(13, 'Aerofólio Original Tgp Palio 96 A 2002 Preto 30 Leds 2p E 4p',  285.00))\n",
        "produtos.append(Produto(14, 'constituição federal de 88',  30.00))\n",
        "produtos.append(Produto(15, 'CD de instalação whatsapp 2',  5.00))\n",
        "produtos.append(Produto(16, 'beyblade animais',  50.00))\n",
        "produtos.append(Produto(17, 'bonecos power rangers',  120.00))\n",
        "produtos.append(Produto(18, 'livro curso básico de agiotagem',  23.00))\n",
        "produtos.append(Produto(19, 'salgadinho torcida+ cerveja crystal',  5.00))\n",
        "produtos.append(Produto(20, 'cartela de bingo da igreja', 2.00))\n"
      ],
      "execution_count": null,
      "outputs": []
    },
    {
      "cell_type": "code",
      "metadata": {
        "id": "CO7p94JRiCBZ"
      },
      "source": [
        "#função para calcular quanto irá custar um produto segundo sua quantidade escolhida.\n",
        "def valorTotal(quantidade,id):\n",
        "  produtoValor=produtos[id-1].valor\n",
        "  preco=quantidade*produtoValor\n",
        "  return preco\n",
        "\n",
        "def adicionarProduto():\n",
        "  while True:\n",
        "    carrinho=int (input('escolha o ID do produto que deseja adicionar ao carinho:'))\n",
        "    quantidade=int (input('qual a quantidade desse produto que você deseja adicionar ao carrinho?'))\n",
        "    final=valorTotal(quantidade,carrinho)\n",
        "    print(f\"O produto irá custar: {final}\")\n",
        "\n",
        "    if final + clienteLogado.aPagar <= 1000:\n",
        "      clienteLogado.aPagar += final\n",
        "      clienteLogado.carrinho.produtos.append(produtos[carrinho-1])\n",
        "      clienteLogado.carrinho.qtdPorProduto.append(quantidade)\n",
        "      print(\"Compra bem sucedida!\")\n",
        "      print(f\"Seu valor a pagar no carrinho agora é de: {clienteLogado.aPagar}\")\n",
        "    else:\n",
        "      print('Você já chegou ao seu limite colega, pague sua conta e repense seu consumismo.')\n",
        "      print(f\"Seu valor a pagar no carrinho é de: {clienteLogado.aPagar}\")\n",
        "\n",
        "    continuar=input(f'Deseja continuar comprando? \"s\" para sim \"n\" para não: ')\n",
        "    if continuar == 'n':\n",
        "      break"
      ],
      "execution_count": null,
      "outputs": []
    },
    {
      "cell_type": "code",
      "metadata": {
        "id": "3ueku-cb-lBO"
      },
      "source": [
        "#função zera saldo para quando for chamado menu '4'\n",
        "def zeraSaldo():\n",
        "  clienteLogado.aPagar=clienteLogado.aPagar*0\n",
        "  clienteLogado.carrinho.produtos.clear()\n",
        "  clienteLogado.carrinho.qtdPorProduto.clear()\n"
      ],
      "execution_count": null,
      "outputs": []
    },
    {
      "cell_type": "code",
      "metadata": {
        "id": "0woeCLuLfg-_"
      },
      "source": [
        "def mostraCarrinho():\n",
        "  i = 0\n",
        "  while i < len(clienteLogado.carrinho.produtos):\n",
        "    print(f\"Nome: {clienteLogado.carrinho.produtos[i].nome}, Quantidade: {clienteLogado.carrinho.qtdPorProduto[i]}\")\n",
        "    i+=1\n",
        "\n",
        "  print(\"---------------------------------------------------------------------------------------------\")\n",
        "  print(f\"Total: {clienteLogado.aPagar}\")"
      ],
      "execution_count": null,
      "outputs": []
    },
    {
      "cell_type": "code",
      "metadata": {
        "id": "IF9SiKWTPCsK"
      },
      "source": [
        "#imprime lista de produtos\n",
        "def mostrarProdutos():\n",
        "  for i in produtos:\n",
        "    print('ID:', i.id , 'Produto: ', i.nome , 'valor: R$', i.valor)"
      ],
      "execution_count": null,
      "outputs": []
    },
    {
      "cell_type": "code",
      "metadata": {
        "id": "XisULlz6GtKB",
        "colab": {
          "base_uri": "https://localhost:8080/"
        },
        "outputId": "2e9845f7-6783-4e84-ac83-8e2caa224dd6"
      },
      "source": [
        "#loop para chamar o menu\n",
        "while True:\n",
        "  print(\"------------------------------------------\")\n",
        "  print(\"1 - Cadastrar novos clientes\")\n",
        "  print(\"2 - Compras\")\n",
        "  print(\"3 - Mostrar carrinho\")\n",
        "  print(\"4 - Pagar conta\")\n",
        "  print(\"5 - Consultar cliente\")\n",
        "  print(\"6 - Mostrar produtos\")\n",
        "  print(\"7 - Realizar login\")\n",
        "  print(\"Outro valor - Encerrar a execução\")\n",
        "  opcao = int (input(\"Escolha uma operação: \"))\n",
        "  print(\"------------------------------------------\")\n",
        "\n",
        "  if opcao == 1:\n",
        "    criarCliente()\n",
        "\n",
        "  elif opcao == 2:\n",
        "    if clienteLogado != None:\n",
        "      print(clienteLogado.nome)\n",
        "      mostrarProdutos()\n",
        "      adicionarProduto()\n",
        "    else:\n",
        "      print(\"Realize login teclando '7' no menu principal, para acessar esta função.\")\n",
        "\n",
        "  elif opcao == 3:\n",
        "    if clienteLogado != None:\n",
        "      mostraCarrinho()\n",
        "    else:\n",
        "      print(\"Realize login teclando '7' no menu principal, para acessar esta função.\")  \n",
        "\n",
        "  elif opcao==4:\n",
        "    if clienteLogado != None:\n",
        "      confirmacao=input(\"digite 's' para pagar a conta ou 'n' para voltar para o menu!\")\n",
        "      if confirmacao=='s':\n",
        "        zeraSaldo()\n",
        "        print('Conta paga com sucesso!')\n",
        "    else:\n",
        "      print(\"Realize login teclando '7' no menu principal, para acessar esta função.\")\n",
        "\n",
        "  elif opcao == 5:\n",
        "    consultarCiente()\n",
        "\n",
        "  elif opcao == 6:\n",
        "    mostrarProdutos()\n",
        "\n",
        "  elif opcao == 7:\n",
        "    clienteLogado = logar()\n",
        "\n",
        "  else:\n",
        "    break"
      ],
      "execution_count": null,
      "outputs": [
        {
          "output_type": "stream",
          "text": [
            "------------------------------------------\n",
            "1 - Cadastrar novos clientes\n",
            "2 - Compras\n",
            "3 - Mostrar carrinho\n",
            "4 - Pagar conta\n",
            "5 - Consultar cliente\n",
            "6 - Mostrar produtos\n",
            "7 - Realizar login\n",
            "Outro valor - Encerrar a execução\n",
            "Escolha uma operação: 1\n",
            "------------------------------------------\n",
            "------------------------------------------\n",
            "Digite o nome: pa\n",
            "Digite o CPF: 08470392931\n",
            "Digite o email: asd\n",
            "Digite a senha: 123456\n",
            "------------------------------------------\n",
            "CPF não atende os requisitos de um cpf válido\n",
            "------------------------------------------\n",
            "1 - Cadastrar novos clientes\n",
            "2 - Compras\n",
            "3 - Mostrar carrinho\n",
            "4 - Pagar conta\n",
            "5 - Consultar cliente\n",
            "6 - Mostrar produtos\n",
            "7 - Realizar login\n",
            "Outro valor - Encerrar a execução\n",
            "Escolha uma operação: 1\n",
            "------------------------------------------\n",
            "------------------------------------------\n",
            "Digite o nome: pa\n",
            "Digite o CPF: 08470392930\n",
            "Digite o email: 123\n",
            "Digite a senha: 123\n",
            "------------------------------------------\n",
            "Senha deve conter ao menos 6 digitos!\n",
            "------------------------------------------\n",
            "1 - Cadastrar novos clientes\n",
            "2 - Compras\n",
            "3 - Mostrar carrinho\n",
            "4 - Pagar conta\n",
            "5 - Consultar cliente\n",
            "6 - Mostrar produtos\n",
            "7 - Realizar login\n",
            "Outro valor - Encerrar a execução\n",
            "Escolha uma operação: 1\n",
            "------------------------------------------\n",
            "------------------------------------------\n",
            "Digite o nome: pa\n",
            "Digite o CPF: 08470392930\n",
            "Digite o email: pa\n",
            "Digite a senha: 123456\n",
            "------------------------------------------\n",
            "Cliente cadastrado com sucesso!\n",
            "------------------------------------------\n",
            "1 - Cadastrar novos clientes\n",
            "2 - Compras\n",
            "3 - Mostrar carrinho\n",
            "4 - Pagar conta\n",
            "5 - Consultar cliente\n",
            "6 - Mostrar produtos\n",
            "7 - Realizar login\n",
            "Outro valor - Encerrar a execução\n",
            "Escolha uma operação: 9\n",
            "------------------------------------------\n"
          ],
          "name": "stdout"
        }
      ]
    }
  ]
}