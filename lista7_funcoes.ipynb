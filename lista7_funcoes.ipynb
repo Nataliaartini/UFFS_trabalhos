{
  "nbformat": 4,
  "nbformat_minor": 0,
  "metadata": {
    "colab": {
      "name": "resolvida lista7.ipynb",
      "provenance": [],
      "collapsed_sections": [],
      "include_colab_link": true
    },
    "kernelspec": {
      "name": "python3",
      "display_name": "Python 3"
    },
    "language_info": {
      "name": "python"
    }
  },
  "cells": [
    {
      "cell_type": "markdown",
      "metadata": {
        "id": "view-in-github",
        "colab_type": "text"
      },
      "source": [
        "<a href=\"https://colab.research.google.com/github/Nataliaartini/UFFS_trabalhos/blob/main/lista7_funcoes.ipynb\" target=\"_parent\"><img src=\"https://colab.research.google.com/assets/colab-badge.svg\" alt=\"Open In Colab\"/></a>"
      ]
    },
    {
      "cell_type": "markdown",
      "metadata": {
        "id": "OP_vUVLqD0NA"
      },
      "source": [
        "# Lista 7 - \n",
        "\n",
        "```\n",
        "**Devem ser usadas funções em todas as questões**\n",
        "```"
      ]
    },
    {
      "cell_type": "markdown",
      "metadata": {
        "id": "da4ZunD5QLnk"
      },
      "source": [
        "---\n",
        "**1 -** Faça um programa que leia um valor `N` e chame uma **função** para calcular e retornar o valor da série `S`, utilizando a seguinte fórmula:\n",
        "\n",
        "&nbsp; \n",
        "\n",
        "![](https://drive.google.com/uc?export=view&id=1wJS6mG8BsgEml1roWy2nLQcLdMNKP8LO)\n",
        " \n",
        "\n",
        "&nbsp; \n",
        "\n",
        "Ex:\n",
        "* entrada: 20\n",
        "* saída: 0.33122859682457195"
      ]
    },
    {
      "cell_type": "code",
      "metadata": {
        "id": "d0vY4zHCSKFg",
        "colab": {
          "base_uri": "https://localhost:8080/"
        },
        "outputId": "c407c17a-1acb-48a6-c846-8e453510b699"
      },
      "source": [
        "def series(n1):\n",
        "  i=2\n",
        "  resultado=0\n",
        "  while i<=n1:\n",
        "    if i%2 == 0:\n",
        "      resultado += 1/i\n",
        "    else:\n",
        "      resultado += -1/i\n",
        "    i+=1\n",
        "\n",
        "  return resultado\n",
        "\n",
        "n1=int (input('insira o número da série: '))\n",
        "print(series(n1))"
      ],
      "execution_count": null,
      "outputs": [
        {
          "output_type": "stream",
          "text": [
            "insira o número da série: 20\n",
            "0.33122859682457195\n"
          ],
          "name": "stdout"
        }
      ]
    },
    {
      "cell_type": "markdown",
      "metadata": {
        "id": "MNUwQfl5D8N-"
      },
      "source": [
        "---\n",
        "**2 -** Faça uma **função** que recebe uma string e retorna o número de vogais existentes nesta string. No programa principal, leia uma string através do input, chame a função e exiba a contagem de vogais.\n",
        "\n",
        "Dicas: \n",
        "* uma string pode ser tratada como uma lista (vetor) de letras;\n",
        "* o conjunto de vogais também pode ser definido como uma lista (vetor).\n",
        "\n",
        "Ex:\n",
        "* entrada: Universidade\n",
        "* saída:  6 vogais"
      ]
    },
    {
      "cell_type": "code",
      "metadata": {
        "id": "BATS_SwylgNc",
        "colab": {
          "base_uri": "https://localhost:8080/"
        },
        "outputId": "f996e4b9-abf3-4ba1-c0c4-83912706691e"
      },
      "source": [
        "def strings(palavra_informada):\n",
        "  vogais=['a','e','i','o','u']\n",
        "  count = 0\n",
        "  for letra in palavra_informada:\n",
        "    if letra in  vogais:\n",
        "      count += 1\n",
        "  return count\n",
        "\n",
        "teste= input('digite uma palavra: ')\n",
        "vogal= strings(teste)\n",
        "print(vogal)"
      ],
      "execution_count": null,
      "outputs": [
        {
          "output_type": "stream",
          "text": [
            "digite uma palavra: ieijra\n",
            "4\n"
          ],
          "name": "stdout"
        }
      ]
    },
    {
      "cell_type": "markdown",
      "metadata": {
        "id": "-KPtybQJGGIj"
      },
      "source": [
        "---\n",
        "**3 -** Faça um programa para cálculo de área de figuras geométricas. Ao iniciar, o programa deve oferecer ao usuário a opção de escolher entre: círculo (c), triângulo (t) e retângulo (r). Cada opção deve conduzir o usuário à digitação dos valores necessários ao cálculo e, em seguida, chamar a **função** correspondente ao cálculo da área da figura escolhida. As 3 **funções** devem retornar os resultados ao programa principal para que sejam exibidos.\n",
        "\n",
        "Ex:\n",
        "* entrada: t 10 5\n",
        "* saída: 25\n"
      ]
    },
    {
      "cell_type": "code",
      "metadata": {
        "id": "2kMev8mg6ARL",
        "colab": {
          "base_uri": "https://localhost:8080/"
        },
        "outputId": "20c99859-98a3-4c8e-d711-3ca86cfea0e3"
      },
      "source": [
        "def area_circulo():\n",
        "  raio=float (input('qual o raio do círculo?'))\n",
        "  area=3.14*(raio**2)\n",
        "  return area\n",
        "\n",
        "def area_triangulo():\n",
        "  base=float (input('qual a base do triângulo?'))\n",
        "  altura=float (input('qual a altura do triângulo?'))\n",
        "  area=(baset*alturat)/2\n",
        "  return area\n",
        "\n",
        "def area_retangulo():\n",
        "  baser=float (input('qual a base do retângulo?'))\n",
        "  alturar=float (input('qual a altura do triângulo?'))\n",
        "  area=baser*alturar\n",
        "  return area\n",
        "\n",
        "aux=input('\"c\" para circulo, \"t\" para triangulo ou \"r\" para retangulo: ')\n",
        "\n",
        "if aux=='c':\n",
        "  print(area_circulo())\n",
        "\n",
        "if aux=='t':\n",
        "  print(area_triangulo())\n",
        "  \n",
        "if aux=='r':\n",
        "  print(area_retangulo())"
      ],
      "execution_count": null,
      "outputs": [
        {
          "output_type": "stream",
          "text": [
            "\"c\" para circulo, \"t\" para triangulo ou \"r\" para retangulor\n",
            "qual a base do retângulo?5\n",
            "qual a altura do triângulo?2\n",
            "10.0\n"
          ],
          "name": "stdout"
        }
      ]
    },
    {
      "cell_type": "markdown",
      "metadata": {
        "id": "np9rg9L3HxyY"
      },
      "source": [
        "**4** - Faça um programa que leia um vetor de 10 elementos. Em seguida chame uma função que recebe este vetor como argumento de entrada e retorna para o programa principal outro vetor contendo apenas os valores que se repetem, apresentados em ordem crescente. Exiba então este vetor no programa principal.\n",
        "\n",
        "Ex:\n",
        "* entrada: [9,3,3,5,7,9,0,2,4,2]\n",
        "* saída: [2,3,9]"
      ]
    },
    {
      "cell_type": "code",
      "metadata": {
        "id": "stK4M-IsHyPe",
        "colab": {
          "base_uri": "https://localhost:8080/"
        },
        "outputId": "481f6d64-1869-499f-b577-5e325e20c296"
      },
      "source": [
        "def numero_repetido(vetor):\n",
        "  i=0\n",
        "  lista_repetidos=[]\n",
        "  while i<=9:\n",
        "    j=i+1\n",
        "    while j<=9:\n",
        "      if vetor[i]==vetor[j]:\n",
        "        lista_repetidos.append(vetor[i])\n",
        "        if vetor[i] in lista_repetidos:\n",
        "          break\n",
        "      j+=1\n",
        "    i+=1\n",
        "  print(sorted(lista_repetidos))\n",
        "    \n",
        "vetor=[]\n",
        "for i in range(10):\n",
        "  vetor.append(int (input()))\n",
        "numero_repetido(vetor)"
      ],
      "execution_count": null,
      "outputs": [
        {
          "output_type": "stream",
          "text": [
            "9\n",
            "3\n",
            "3\n",
            "5\n",
            "7\n",
            "9\n",
            "9\n",
            "2\n",
            "4\n",
            "2\n",
            "[2, 3, 9, 9]\n"
          ],
          "name": "stdout"
        }
      ]
    },
    {
      "cell_type": "markdown",
      "metadata": {
        "id": "Ghdp_BWKTmC9"
      },
      "source": [
        "---\n",
        "**5 -** Faça um programa para cálculo de bonificações/descontos sobre o salário dos funcionários de uma empresa. O programa deve ler 4 valores (salário líquido, total de vendas no mês, faltas, adiantamentos) e armazená-los em uma lista (vetor). Em seguida, chamar uma função, passando este vetor como parâmetro. A função deve calcular e retornar o salário final de acordo com as seguintes regras:\n",
        "  * aplicar um  bônus sobre o salário líquido equivalente a 3% do total de vendas, se este estiver abaixo de 20 mil, ou 5%, se alcançar ou ultrapassar este valor;\n",
        "  * descontar 1/30 do salário líquido para cada dia de falta;\n",
        "  * descontar o valor dado como adiantamento.\n",
        "\n",
        "O programa principal deve solicitar a digitação dos 4 valores, chamar a função e apresentar o salário final. Em seguida, perguntar \"deseja continuar? s/n\". Encerrar o programa se o usuário escolher \"n\". Caso contrário, prosseguir solicitando os dados do próximo funcionário. \n",
        "\n",
        "Ex:\n",
        "* entrada: 3000, 25000, 2, 500\n",
        "* saída: 3550.0"
      ]
    },
    {
      "cell_type": "code",
      "metadata": {
        "id": "-gZ05woNH0qC",
        "colab": {
          "base_uri": "https://localhost:8080/"
        },
        "outputId": "599b770a-6647-4f07-eca8-2d4277bd9e95"
      },
      "source": [
        "def folha_pag(salario,vendas,faltas,adiantamentos):\n",
        "  salario_final=0\n",
        "  valorfaltas=0\n",
        "  if vendas<20000:\n",
        "    salario_final=float (vendas*0.03)+salario\n",
        "  else:\n",
        "    salario_final=float (vendas*0.05)+salario\n",
        "  if faltas>0:\n",
        "    valorfaltas=(salario/30 * faltas)\n",
        "  salario_final=float (salario_final-valorfaltas-adiantamentos)\n",
        "  return salario_final\n",
        "\n",
        "while True:\n",
        "  salario= float (input('qual o salário? '))\n",
        "  vendas= float (input('quanto de vendas? '))\n",
        "  faltas= int (input('quantas faltas? '))\n",
        "  adiantamentos= float (input('teve adiantamentos? '))\n",
        "  salario_lista=[salario, vendas, faltas, adiantamentos]\n",
        "  print(salario_lista)\n",
        "  print(folha_pag(salario, vendas, faltas, adiantamentos))\n",
        "  encerra=input('deseja continuar? \"s\" p/ sim ou \"n\" p/ não.')\n",
        "  if encerra=='n':\n",
        "    break"
      ],
      "execution_count": null,
      "outputs": [
        {
          "output_type": "stream",
          "text": [
            "qual o salário? 3000\n",
            "quanto de vendas? 25000\n",
            "quantas faltas? 2\n",
            "teve adiantamentos? 500\n",
            "[3000.0, 25000.0, 2, 500.0]\n",
            "3550.0\n",
            "deseja continuar? \"s\" p/ sim ou \"n\" p/ não.n\n"
          ],
          "name": "stdout"
        }
      ]
    },
    {
      "cell_type": "markdown",
      "metadata": {
        "id": "9pyXhZ1rLPKk"
      },
      "source": [
        "---\n",
        "**DESAFIO -** Um palíndromo é uma palavra, frase ou número que é idêntico quando lido de frente para trás ou de trás para frente. São exemplos de palavras palíndromas: \"arara\", \"osso\", \"mirim\", \"radar\", \"reviver\", \"socos\", \"saias\".\n",
        "\n",
        "Faça uma **função** que receba uma palavra e retorne verdadeiro se esta é um palíndromo, ou falso, caso contrário.\n",
        "\n",
        "Ex:\n",
        "* entrada: arara\n",
        "* saída: True\n",
        "\n",
        "* entrada: tucano\n",
        "* saída: False"
      ]
    },
    {
      "cell_type": "code",
      "metadata": {
        "id": "T8JhzWz6NjMI"
      },
      "source": [
        ""
      ],
      "execution_count": null,
      "outputs": []
    }
  ]
}