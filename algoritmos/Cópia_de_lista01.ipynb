{
  "nbformat": 4,
  "nbformat_minor": 0,
  "metadata": {
    "colab": {
      "name": "Cópia de lista01.ipynb",
      "provenance": [],
      "collapsed_sections": []
    },
    "kernelspec": {
      "name": "python3",
      "display_name": "Python 3"
    }
  },
  "cells": [
    {
      "cell_type": "markdown",
      "metadata": {
        "id": "a8p7yHUrtk04"
      },
      "source": [
        "1- Mostrar a média aritmética entre 3 números passados pelo usuário.\n",
        "EX:\n",
        "3\n",
        "4\n",
        "5\n",
        "Média: 4.0\n"
      ]
    },
    {
      "cell_type": "code",
      "metadata": {
        "id": "OfP-GOdJL5uH",
        "colab": {
          "base_uri": "https://localhost:8080/"
        },
        "outputId": "37ed5076-e8a3-4c6f-b29c-79ddc48a02cc"
      },
      "source": [
        "numero0=int (input(\"Digite o primeiro número:\"))\n",
        "numero1=int (input(\"Digite o segundo número:\"))\n",
        "numero2=int (input(\"Digite o terceiro número:\"))\n",
        "mediaart= (numero0+numero1+numero2)/3\n",
        "print(f\"a média é:{mediaart}\")"
      ],
      "execution_count": null,
      "outputs": [
        {
          "output_type": "stream",
          "text": [
            "Digite o primeiro número:9\n",
            "Digite o segundo número:8\n",
            "Digite o terceiro número:7\n",
            "a média é:8.0\n"
          ],
          "name": "stdout"
        }
      ]
    },
    {
      "cell_type": "markdown",
      "metadata": {
        "id": "LJGy776YtjMT"
      },
      "source": [
        "2- Leia um número e mostre seu sucessor e seu antecessor na tela.\n",
        "Ex: \n",
        "5\n",
        "Antecessor: 4\n",
        "Sucessor: 6\n"
      ]
    },
    {
      "cell_type": "code",
      "metadata": {
        "id": "p1jq4755tjAS",
        "colab": {
          "base_uri": "https://localhost:8080/"
        },
        "outputId": "996137b0-e753-4462-c3f7-2b50e7460742"
      },
      "source": [
        "num0=int(input(\"Digite qualquer número:\"))\n",
        "ant= num0-1\n",
        "suc= num0+1\n",
        "print(f\"o antecessor desse número é:{ant}\\ne o sucessor desse número é:{suc}\")\n",
        "\n"
      ],
      "execution_count": null,
      "outputs": [
        {
          "output_type": "stream",
          "text": [
            "Digite qualquer número:8\n",
            "o antecessor desse número é:7\n",
            "e o sucessor desse número é:9\n"
          ],
          "name": "stdout"
        }
      ]
    },
    {
      "cell_type": "markdown",
      "metadata": {
        "id": "QJe7T6zZtoKM"
      },
      "source": [
        "3- Leia dois números e mostre a soma. Ante do resultado, deverá aparecer a mensagem conforme abaixo:\n",
        "\n",
        "> Bloco com recuo\n",
        "\n",
        "> Bloco com recuo\n",
        "\n",
        "\n",
        "\n",
        "\n",
        "EX: \n",
        "3\n",
        "4\n",
        "Soma: 7\n"
      ]
    },
    {
      "cell_type": "code",
      "metadata": {
        "id": "_6glyWa7tojf",
        "colab": {
          "base_uri": "https://localhost:8080/"
        },
        "outputId": "6bfeb748-1fd6-45b2-9ace-732a9c1bdc07"
      },
      "source": [
        "num0=int(input(\"insira o primeiro algarismo:\"))\n",
        "num1=int(input(\"insira o segundo algarismo:\"))\n",
        "sum=num0+num1\n",
        "print(f\"o resultado da soma destes algarismos é: {sum}\")"
      ],
      "execution_count": null,
      "outputs": [
        {
          "output_type": "stream",
          "text": [
            "insira o primeiro algarismo:8\n",
            "insira o segundo algarismo:94\n",
            "o resultado da soma destes algarismos é: 102\n"
          ],
          "name": "stdout"
        }
      ]
    },
    {
      "cell_type": "markdown",
      "metadata": {
        "id": "2M3y3TpStuqX"
      },
      "source": [
        "4-Leia um número e mostre a terça parte deste número.\n",
        "EX: \n",
        "9\n",
        "Resultado:3\n"
      ]
    },
    {
      "cell_type": "code",
      "metadata": {
        "id": "P1bg_a58tuIb",
        "colab": {
          "base_uri": "https://localhost:8080/"
        },
        "outputId": "84881076-f03f-4010-b9d0-2a29bb7ac0dd"
      },
      "source": [
        "num=int(input(\"Insira um número:\"))\n",
        "div=num/3\n",
        "print(f\"O resultado da divisão deste algarismo por três é: {div}\")"
      ],
      "execution_count": null,
      "outputs": [
        {
          "output_type": "stream",
          "text": [
            "Insira um número:300\n",
            "O resultado da divisão deste algarismo por três é: 100.0\n"
          ],
          "name": "stdout"
        }
      ]
    },
    {
      "cell_type": "markdown",
      "metadata": {
        "id": "f-70gZCttw4S"
      },
      "source": [
        "5- Faça um algoritmo que converta um montante em real para dólar, para tal peça o valor em real que se deseja converter e a cotação atual. \n",
        "EX:\n",
        "10,00\n",
        "5,80\n",
        "Resultado: 1,72\n"
      ]
    },
    {
      "cell_type": "code",
      "metadata": {
        "id": "faNrB6UgtwdT",
        "colab": {
          "base_uri": "https://localhost:8080/"
        },
        "outputId": "fe313bd4-c86a-4543-9536-41dbbe74fb5f"
      },
      "source": [
        "import requests\n",
        "import json\n",
        "response = requests.get('https://economia.awesomeapi.com.br/all/USD-BRL')\n",
        "response=json.loads(response.content)\n",
        "dolar_max=float (response[\"USD\"]['high'])\n",
        "dolar_min=float (response[\"USD\"]['low'])\n",
        "pila=float (input(\"Coloca aí quantos pila tu tem: R$\"))\n",
        "pila_max=pila/dolar_min\n",
        "pila_min=pila/dolar_max\n",
        "print(f\"Teus pila valem no mínimo: ${round(pila_min,2)} e no máximo: ${round(pila_max,2)} dólares\")\n"
      ],
      "execution_count": null,
      "outputs": [
        {
          "output_type": "stream",
          "text": [
            "Coloca aí quantos pila tu tem: R$600\n",
            "Teus pila valem no mínimo: $104.66 e no máximo: $106.41 dólares\n"
          ],
          "name": "stdout"
        }
      ]
    },
    {
      "cell_type": "markdown",
      "metadata": {
        "id": "lQgwgtxft432"
      },
      "source": [
        "A máquina 1 produz 1 poste por dia, a máquina 2 produz 3 e a máquina 3 produz 2,5.  Faça um programa que calcule o número de postes produzidos por esta usina para uma quantidade de dias informada.\n",
        "\n",
        "\n"
      ]
    },
    {
      "cell_type": "code",
      "metadata": {
        "id": "gDd2FC21t5Fu",
        "colab": {
          "base_uri": "https://localhost:8080/"
        },
        "outputId": "1bf60200-ac98-4938-8b86-1e56543ae303"
      },
      "source": [
        "dias= float (input(\"Diga quantos foram os dias trabalhados:\"))\n",
        "mac1= 1\n",
        "mac2= 3\n",
        "mac3= 2.5\n",
        "tmac=float (mac1+mac2+mac3)\n",
        "prod=float (dias*tmac)\n",
        "print(f\"{prod} é o total de postes produzidos\")"
      ],
      "execution_count": null,
      "outputs": [
        {
          "output_type": "stream",
          "text": [
            "Diga quantos foram os dias trabalhados:8\n",
            "52.0 é o total de postes produzidos\n"
          ],
          "name": "stdout"
        }
      ]
    },
    {
      "cell_type": "markdown",
      "metadata": {
        "id": "gf0lidkJt7gf"
      },
      "source": [
        "O professor gostaria de ter um algoritmo para calcular a média da disciplina Algoritmos.  Ele aplica 3 provas, sendo que a primeira tem peso 3, a segunda peso 2 e a terceira peso 5.\n",
        "EX:\n",
        "7\n",
        "8\n",
        "6\n",
        "Média: 6.7"
      ]
    },
    {
      "cell_type": "code",
      "metadata": {
        "id": "Sks1juKBt8JK",
        "colab": {
          "base_uri": "https://localhost:8080/"
        },
        "outputId": "2f73912a-dfb2-4bf4-cb0a-f2025c058163"
      },
      "source": [
        "aluno=input (\"Aluno que foi avaliado: \")\n",
        "p1=float (input(\"Nota da primeira prova: \"))*0.3\n",
        "p2=float (input(\"Nota da segunda prova: \"))*0.2\n",
        "p3=float (input(\"Nota da terceira prova: \"))*0.5\n",
        "mf=float (p1+p2+p3)\n",
        "print(f\"A média final do(a) {aluno} é: {mf}\")"
      ],
      "execution_count": null,
      "outputs": [
        {
          "output_type": "stream",
          "text": [
            "Aluno que foi avaliado:Natalia\n",
            "Nota da primeira prova10\n",
            "Nota da segunda prova10\n",
            "Nota da terceira prova10\n",
            "A média final do(a) Natalia é: 10.0\n"
          ],
          "name": "stdout"
        }
      ]
    },
    {
      "cell_type": "markdown",
      "metadata": {
        "id": "X6uP65oBt8bo"
      },
      "source": [
        "DESAFIO-Opcional:  Os salários dos funcionários da empresa ABC são calculados da seguinte forma: deve-se pedir o número de horas trabalhadas no mês e o valor da hora. Com esses valores calcula-se o salário bruto.  Para calcular o salário líquido deve descontar: 8% de INSS, 12% de imposto de renda e o total de adiantamentos feitos ao funcionário. Faça um programa que descreva o algoritmo para resolver este problema.\n"
      ]
    },
    {
      "cell_type": "code",
      "metadata": {
        "id": "18rzLTvJt_TF",
        "colab": {
          "base_uri": "https://localhost:8080/"
        },
        "outputId": "29353116-848f-4f6b-c138-1a1640235ce0"
      },
      "source": [
        "colab=input (\"Qual o nome do colaborador?\")\n",
        "horas=float (input(\"Qual o número de horas que ele trabalhou?\"))\n",
        "valor_hora=float (input(\"Qual é o valor-hora que ele recebe?\"))\n",
        "bruto= horas*valor_hora\n",
        "descontoINSS= (bruto*8)/100\n",
        "descontoIR=(bruto*12)/100\n",
        "liquido=bruto-descontoINSS-descontoIR\n",
        "print(f\"o salário líquido do colaborador é de: R${liquido}\")\n"
      ],
      "execution_count": null,
      "outputs": [
        {
          "output_type": "stream",
          "text": [
            "Qual o nome do colaborador?ffe\n",
            "Qual o número de horas que ele trabalhou?180\n",
            "Qual é o valor-hora que ele recebe?10\n",
            "o salário líquido do colaborador é de: R$1440.0\n"
          ],
          "name": "stdout"
        }
      ]
    }
  ]
}