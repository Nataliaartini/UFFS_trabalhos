{
  "nbformat": 4,
  "nbformat_minor": 0,
  "metadata": {
    "colab": {
      "name": "NATALIA lista for e while.ipynb",
      "provenance": [],
      "collapsed_sections": []
    },
    "kernelspec": {
      "name": "python3",
      "display_name": "Python 3"
    },
    "language_info": {
      "name": "python"
    }
  },
  "cells": [
    {
      "cell_type": "markdown",
      "metadata": {
        "id": "_h7NX-O_tY6u"
      },
      "source": [
        "1 - Escreva um programa para verificar se um número digitado pelo usuário é primo ou não usando o While.Obs: um número primo é divisível somente por 1 e ele mesmo."
      ]
    },
    {
      "cell_type": "code",
      "metadata": {
        "id": "C-B7Gr-CtUby",
        "colab": {
          "base_uri": "https://localhost:8080/"
        },
        "outputId": "0a132e37-43de-4eff-c4d5-6612c4ec159b"
      },
      "source": [
        "i=int (2)\n",
        "a=int (input('digite um número: '))\n",
        "if a%2==0 and a!=2:\n",
        "  print('Não é primo')\n",
        "else:\n",
        "  primo=True\n",
        "  while i<(a/2):\n",
        "    if a%i ==0:\n",
        "      primo=False\n",
        "      break\n",
        "    i+=1\n",
        "  if primo:\n",
        "    print('É primo')\n",
        "  else:\n",
        "    print('Não é primo')"
      ],
      "execution_count": null,
      "outputs": [
        {
          "output_type": "stream",
          "text": [
            "digite um número: 2\n",
            "É primo\n"
          ],
          "name": "stdout"
        }
      ]
    },
    {
      "cell_type": "markdown",
      "metadata": {
        "id": "D_aYJBBSteLG"
      },
      "source": [
        "2 - Faça um programa que simule a multiplicação através de adições.  Para tal serão pedidos os dois operandos. Por exemplo se for informado 3 e 4, deverá ser calculado, através de soma, 3*4, ou seja, 12. Este cálculo é feito somando o primeiro valor informado por ele mesmo o número de vezes representada pelo segundo número. \tNesse exemplo, o três seria somado quatro vezes: 3+3+3+3, resultando 12.\n",
        "\n",
        "\n"
      ]
    },
    {
      "cell_type": "code",
      "metadata": {
        "id": "v4JT6ynltegb",
        "colab": {
          "base_uri": "https://localhost:8080/"
        },
        "outputId": "25903d13-6ffd-47e8-fcf2-6edd511df544"
      },
      "source": [
        "a=int (input(\"digite o multiplicando: \"))\n",
        "b=int (input(\"digite o multiplicador: \"))\n",
        "i=1\n",
        "a1=a\n",
        "if a==0 or b==0:\n",
        "  print('O resultado é 0')\n",
        "while i<b:\n",
        "  i+=1\n",
        "  a=a1+a\n",
        "print(f'o resultado da soma do multiplicando por ele mesmo {b} vezes é {a}')"
      ],
      "execution_count": null,
      "outputs": [
        {
          "output_type": "stream",
          "text": [
            "digite o multiplicando: 5\n",
            "digite o multiplicador: 6\n",
            "o resultado da soma do multiplicando por ele mesmo 6 vezes é 30\n"
          ],
          "name": "stdout"
        }
      ]
    },
    {
      "cell_type": "markdown",
      "metadata": {
        "id": "Judyh7kntexa"
      },
      "source": [
        "3 - Antônio tem 1,50m e cresce 2 cm por ano. Carlos tem 1,10m  e  cresce  3 cm  por  ano.  Fazer  um  programa  que calcule quantos anos seriam necess ́arios para que Carlos tivesse  a  mesma  altura  que  Antonio.  Supondo  que  os dois crescem todos os anos.\n"
      ]
    },
    {
      "cell_type": "code",
      "metadata": {
        "id": "mQccPGHdtfI_",
        "colab": {
          "base_uri": "https://localhost:8080/"
        },
        "outputId": "dad84ad3-7f0b-4f35-b856-448f071a3012"
      },
      "source": [
        "a=150\n",
        "b=110\n",
        "ano=0\n",
        "while a!=b:\n",
        "  b+=3\n",
        "  a+=2\n",
        "  ano+=1\n",
        "print(f'levaria {ano} anos para Antônio e Carlos terem a mesma altura.')"
      ],
      "execution_count": null,
      "outputs": [
        {
          "output_type": "stream",
          "text": [
            "levaria 40 anos para Antônio e Carlos terem a mesma altura.\n"
          ],
          "name": "stdout"
        }
      ]
    },
    {
      "cell_type": "markdown",
      "metadata": {
        "id": "9mZFT1uavUg3"
      },
      "source": [
        "4 - Faça um programa que leia dois números e um inteiro descrevendo a operação matemática (soma, subtração, multiplicação, divisão). Por exemplo, para operação de soma, o usuário deve informar o número 1. O programa deve rodar indefinidamente até o usuário informar a operação 0\n",
        "\n",
        "Input: 2 \n",
        "\n",
        "3\n",
        "\n",
        "1\n",
        "\n",
        "Output: 5\t\n"
      ]
    },
    {
      "cell_type": "code",
      "metadata": {
        "id": "2sxIZ4qZvUzo",
        "colab": {
          "base_uri": "https://localhost:8080/"
        },
        "outputId": "ddb7411c-fda7-45aa-b912-2bf9b05f44e5"
      },
      "source": [
        "alg=0\n",
        "op=5\n",
        "rest=0\n",
        "while op!=0:\n",
        "  op=int (input('1=soma, 2=subtração, 3=multiplicação, 4=divisão, 0 para sair: '))\n",
        "  if op==0:\n",
        "    break\n",
        "  else:\n",
        "    alg=float (input('digite o algarismo: '))\n",
        "    alg1=float (input('digite o segundo algarismo: '))\n",
        "    if op==1:\n",
        "      rest=alg+alg1\n",
        "    elif op==2:\n",
        "      rest=alg-alg1\n",
        "    elif op==3:\n",
        "      rest=alg*alg1\n",
        "    elif op==4:\n",
        "      rest=alg/alg1\n",
        "    print(rest)"
      ],
      "execution_count": null,
      "outputs": [
        {
          "output_type": "stream",
          "text": [
            "1=soma, 2=subtração, 3=multiplicação, 4=divisão, 0 para sair: 2\n",
            "digite o algarismo: 5\n",
            "digite o segundo algarismo: 3\n",
            "2.0\n",
            "1=soma, 2=subtração, 3=multiplicação, 4=divisão, 0 para sair: 0\n"
          ],
          "name": "stdout"
        }
      ]
    },
    {
      "cell_type": "markdown",
      "metadata": {
        "id": "8A-QDqgtvi2v"
      },
      "source": [
        "5 - A Distribuidora de Combustíveis X irá dar um aumento em função da quantidade de combustível comprado anualmente por seus clientes.  Os postos que consomem em média até 100.000 litros de combustível ao mês, terão aumento de 20%. Os postos que consomem acima desta média, 12% de aumento. A distribuidora irá fornecer o nome do posto e seu consumo anual. Calcule e escreva qual será o preço do litro de combustível para o posto, levando-se em conta que hoje a distribuidora cobra R$2.93 por litro.\n",
        "\n"
      ]
    },
    {
      "cell_type": "code",
      "metadata": {
        "id": "I1f-KBDIvjS2",
        "colab": {
          "base_uri": "https://localhost:8080/"
        },
        "outputId": "ffe74957-d255-463c-e1da-10e5ba8644d4"
      },
      "source": [
        "cli=input ('Qual a razão social do cliente? ')\n",
        "con=float (input(f'Qual a média de consumo do cliente {cli}? '))\n",
        "preco=1\n",
        "if con<=100000:\n",
        "  preco=(2.93*0.2)+2.93\n",
        "else:\n",
        "  preco=(2.93*0.12)+2.93\n",
        "print(f'o preço do litro de gasolina será: {preco:.3f}')"
      ],
      "execution_count": null,
      "outputs": [
        {
          "output_type": "stream",
          "text": [
            "Qual a razão social do cliente? 6\n",
            "Qual a média de consumo do cliente 6? 190000\n",
            "o preço do litro de gasolina será: 3.282\n"
          ],
          "name": "stdout"
        }
      ]
    }
  ]
}