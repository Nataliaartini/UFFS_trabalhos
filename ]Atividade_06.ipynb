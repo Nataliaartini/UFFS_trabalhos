{
  "nbformat": 4,
  "nbformat_minor": 0,
  "metadata": {
    "kernelspec": {
      "display_name": "Python 3",
      "language": "python",
      "name": "python3"
    },
    "language_info": {
      "codemirror_mode": {
        "name": "ipython",
        "version": 3
      },
      "file_extension": ".py",
      "mimetype": "text/x-python",
      "name": "python",
      "nbconvert_exporter": "python",
      "pygments_lexer": "ipython3",
      "version": "3.6.8"
    },
    "colab": {
      "name": "Cópia de Atividade de listas 06.ipynb",
      "provenance": [],
      "collapsed_sections": [],
      "include_colab_link": true
    }
  },
  "cells": [
    {
      "cell_type": "markdown",
      "metadata": {
        "id": "view-in-github",
        "colab_type": "text"
      },
      "source": [
        "<a href=\"https://colab.research.google.com/github/Nataliaartini/UFFS_trabalhos/blob/main/%5DAtividade_06.ipynb\" target=\"_parent\"><img src=\"https://colab.research.google.com/assets/colab-badge.svg\" alt=\"Open In Colab\"/></a>"
      ]
    },
    {
      "cell_type": "markdown",
      "metadata": {
        "id": "RHRKngGRQ_wE"
      },
      "source": [
        "#Quiz "
      ]
    },
    {
      "cell_type": "markdown",
      "metadata": {
        "id": "jLW266BAPxu5"
      },
      "source": [
        "1) Leia uma lista de valores até que seja inserido o valor -1."
      ]
    },
    {
      "cell_type": "code",
      "metadata": {
        "id": "HXzHY1XFRECw",
        "colab": {
          "base_uri": "https://localhost:8080/"
        },
        "outputId": "97eb508c-667a-43f7-dd86-ed0db8cb35e4"
      },
      "source": [
        "lista=[]\n",
        "aux=0\n",
        "while aux!=-1:\n",
        "  aux=int (input())\n",
        "  if aux!=-1:\n",
        "    lista.append(aux)\n",
        "\n",
        "print(lista)"
      ],
      "execution_count": null,
      "outputs": [
        {
          "output_type": "stream",
          "text": [
            "8\n",
            "9\n",
            "1\n",
            "5\n",
            "-1\n",
            "[8, 9, 1, 5]\n"
          ],
          "name": "stdout"
        }
      ]
    },
    {
      "cell_type": "markdown",
      "metadata": {
        "id": "Hcw5T6tqP3c8"
      },
      "source": [
        "2)Faça um programa mostre a lista ordenada (criada no Ex 1) e calcule a média desses números.\n"
      ]
    },
    {
      "cell_type": "code",
      "metadata": {
        "id": "zUJywrWQREfp",
        "colab": {
          "base_uri": "https://localhost:8080/"
        },
        "outputId": "b2959461-98d9-40a7-fa79-a3a6011627c7"
      },
      "source": [
        "lista_ordenada=(sorted(lista)) \n",
        "print(lista_ordenada)\n",
        "div=len(lista)\n",
        "soma=sum(lista)\n",
        "média=soma/div\n",
        "print(f'a média é: {média}')"
      ],
      "execution_count": null,
      "outputs": [
        {
          "output_type": "stream",
          "text": [
            "[1, 5, 8, 9]\n",
            "a média é:5.75\n"
          ],
          "name": "stdout"
        }
      ]
    },
    {
      "cell_type": "markdown",
      "metadata": {
        "id": "hddQhPYVP4zl"
      },
      "source": [
        "\n",
        "3)Faça um código que receba um vetor e um número N e remova o número N caso ele esteja presente no vetor. Caso não esteja presente, reporte uma mensagem. \n"
      ]
    },
    {
      "cell_type": "code",
      "metadata": {
        "id": "7rDyCDt9RE91"
      },
      "source": [
        "lista=[]\n",
        "aux=0\n",
        "while aux!=-1:\n",
        "  aux=int (input())\n",
        "  if aux!=-1:\n",
        "    lista.append(aux)\n",
        "n=int (input('digite um algarismo:'))\n",
        "if n in lista:\n",
        "  lista.remove(n)\n",
        "else:\n",
        "  print('essa lista não contém esse algarismo.')\n",
        "print(lista)"
      ],
      "execution_count": null,
      "outputs": []
    },
    {
      "cell_type": "markdown",
      "metadata": {
        "id": "wE9J2RvRP6xc"
      },
      "source": [
        "4)Faça um programa que leia cinco (5) nomes digitados pelo usuário e no final imprima esses nomes ordenados. Guarde os nomes em uma lista para serem ordenados no final.\n",
        "\n",
        "\n"
      ]
    },
    {
      "cell_type": "code",
      "metadata": {
        "id": "TioWtR9-RFd7"
      },
      "source": [
        "lista=[]\n",
        "for i in range(5):\n",
        "  lista.append(input())\n",
        "print(lista)\n",
        "print(sorted(lista))"
      ],
      "execution_count": null,
      "outputs": []
    },
    {
      "cell_type": "markdown",
      "metadata": {
        "id": "GjVzSi78P8qx"
      },
      "source": [
        "5) Dadas duas sequências com 2 números inteiros entre 0 e 9, interpretadas como dois números inteiros de 8 algarismos, calcular a sequência de números que representa a soma dos dois inteiros.\n",
        "     Exemplo: \n",
        "\n",
        "           \n",
        "              n1[8] = 8,2,4,2,4,2,5,1 \n",
        "              n2[8]=  3,3,7,5,2,3,3,7\n",
        "              saída:1,1,6,1,8,6,5,8,8\n",
        "            "
      ]
    },
    {
      "cell_type": "code",
      "metadata": {
        "id": "5TcodAfuRGDO",
        "colab": {
          "base_uri": "https://localhost:8080/"
        },
        "outputId": "d3a07d6f-e8e7-4c5b-84bb-758f4820aae1"
      },
      "source": [
        "lista1=[]\n",
        "for i in range(8):\n",
        "  lista1.append (input())\n",
        "\n",
        "lista2=[]\n",
        "for i in range(8):\n",
        "  lista2.append (input())\n",
        "\n",
        "print(lista1)\n",
        "print(lista2)\n",
        "\n",
        "i=7\n",
        "resultado=[]\n",
        "sobra=False\n",
        "while i >=0:\n",
        "  soma=int (lista1[i]) + int (lista2[i])\n",
        "  if sobra==True:\n",
        "    soma+=1\n",
        "    sobra=False\n",
        "\n",
        "  if soma>9:\n",
        "    sobra=True\n",
        "    soma=soma-10\n",
        "\n",
        "  resultado.insert(0,soma)\n",
        "  i-=1\n",
        "\n",
        "if sobra:\n",
        "  resultado.insert(0,1)\n",
        "\n",
        "print(resultado)"
      ],
      "execution_count": null,
      "outputs": [
        {
          "output_type": "stream",
          "text": [
            "3\n",
            "5\n",
            "9\n",
            "4\n",
            "5\n",
            "2\n",
            "1\n",
            "6\n",
            "8\n",
            "6\n",
            "9\n",
            "1\n",
            "4\n",
            "2\n",
            "5\n",
            "3\n",
            "['3', '5', '9', '4', '5', '2', '1', '6']\n",
            "['8', '6', '9', '1', '4', '2', '5', '3']\n",
            "True\n",
            "[1, 2, 2, 8, 5, 9, 4, 6, 9]\n"
          ],
          "name": "stdout"
        }
      ]
    },
    {
      "cell_type": "markdown",
      "metadata": {
        "id": "61jIad2QRdAk"
      },
      "source": [
        "6) Faça um código que receba 2 vetores e encontre os elementos em comum. Ex:\n",
        "\n",
        "    a = [1, 1, 2, 3, 5, 8, 13, 21, 34, 55, 89]\n",
        "    b = [1, 2, 3, 4, 5, 6, 7, 8, 9, 10, 11, 12, 13]\n",
        "\n",
        "Saída: 1,2,3,4,8,13\n",
        "\n",
        "\n"
      ]
    },
    {
      "cell_type": "code",
      "metadata": {
        "id": "8TakrebvRdn0",
        "colab": {
          "base_uri": "https://localhost:8080/"
        },
        "outputId": "901acb8a-768c-44eb-db40-20247cf34363"
      },
      "source": [
        "lista1=[]\n",
        "aux=0\n",
        "while aux!=-1:\n",
        "  aux=int (input())\n",
        "  if aux!=-1:\n",
        "    lista1.append(aux)\n",
        "\n",
        "print(lista1)\n",
        "\n",
        "lista2=[]\n",
        "aux=0\n",
        "while aux!=-1:\n",
        "  aux=int (input())\n",
        "  if aux!=-1:\n",
        "    lista2.append(aux)\n",
        "\n",
        "print(lista2)\n",
        "final=[]\n",
        "for i in lista1:\n",
        "  for x in lista2:\n",
        "    if i == x:\n",
        "      final.append(i)\n",
        "print(final)\n",
        "      "
      ],
      "execution_count": null,
      "outputs": [
        {
          "output_type": "stream",
          "text": [
            "5\n",
            "1\n",
            "2\n",
            "-1\n",
            "[5, 1, 2]\n",
            "5\n",
            "3\n",
            "1\n",
            "-1\n",
            "[5, 3, 1]\n",
            "[5, 1]\n"
          ],
          "name": "stdout"
        }
      ]
    },
    {
      "cell_type": "markdown",
      "metadata": {
        "id": "F45SJzbXRfqq"
      },
      "source": [
        "7) Faça um código que receba um vetor de inteiros e faça a soma dos valores repetidos. EX:\n",
        "\n",
        "input=[0,3,3,5,7,9,9]\n",
        "\n",
        "Saída: [0,6,5,7,18]\n",
        " "
      ]
    },
    {
      "cell_type": "code",
      "metadata": {
        "id": "WJZI7MdYRifK",
        "colab": {
          "base_uri": "https://localhost:8080/"
        },
        "outputId": "871344da-3912-4096-b08f-ee37acab594e"
      },
      "source": [
        "lista1=[]\n",
        "aux=0\n",
        "while aux!=-1:\n",
        "  aux=int (input('insira os valores:'))\n",
        "  if aux!=-1:\n",
        "    lista1.append(aux)\n",
        "\n",
        "print(f'lista1:{lista1}')\n",
        "\n",
        "aux=lista1[0]\n",
        "soma=0\n",
        "resultado=[]\n",
        "for i in lista1:\n",
        "  if i !=aux:\n",
        "    resultado.append(soma)\n",
        "    aux=i\n",
        "    soma=i\n",
        "  else:\n",
        "    soma=i+soma\n",
        "resultado.append(soma)\n",
        "print(resultado)\n"
      ],
      "execution_count": null,
      "outputs": [
        {
          "output_type": "stream",
          "text": [
            "insira os valores:1\n",
            "insira os valores:2\n",
            "insira os valores:2\n",
            "insira os valores:2\n",
            "insira os valores:3\n",
            "insira os valores:4\n",
            "insira os valores:4\n",
            "insira os valores:-1\n",
            "lista1:[1, 2, 2, 2, 3, 4, 4]\n",
            "[1, 6, 3, 8]\n"
          ],
          "name": "stdout"
        }
      ]
    },
    {
      "cell_type": "markdown",
      "metadata": {
        "id": "-UuS1cEiRisp"
      },
      "source": [
        "\n",
        "8)Faça um código que receba dois vetores e faça a soma de menor valor do primeiro vetor com o maior do segundo vetor."
      ]
    },
    {
      "cell_type": "code",
      "metadata": {
        "id": "W7Zg2bBQRj7U",
        "colab": {
          "base_uri": "https://localhost:8080/"
        },
        "outputId": "7cd3d641-6a5c-4385-b2aa-6ad164b089b3"
      },
      "source": [
        "lista1=[]\n",
        "aux=0\n",
        "while aux!=-1:\n",
        "  aux=int (input())\n",
        "  if aux!=-1:\n",
        "    lista1.append(aux)\n",
        "\n",
        "print(lista1)\n",
        "\n",
        "lista2=[]\n",
        "aux=0\n",
        "while aux!=-1:\n",
        "  aux=int (input())\n",
        "  if aux!=-1:\n",
        "    lista2.append(aux)\n",
        "\n",
        "print(lista2)\n",
        "\n",
        "x=lista1[0]\n",
        "for i in lista1:\n",
        "  if i<x:\n",
        "    x=i\n",
        "\n",
        "y=lista2[0]\n",
        "for j in lista2:\n",
        "  if j>y:\n",
        "    y=j\n",
        "\n",
        "print(x+y)"
      ],
      "execution_count": null,
      "outputs": [
        {
          "output_type": "stream",
          "text": [
            "1\n",
            "7\n",
            "9\n",
            "-1\n",
            "[1, 7, 9]\n",
            "5\n",
            "4\n",
            "3\n",
            "-1\n",
            "[5, 4, 3]\n",
            "6\n"
          ],
          "name": "stdout"
        }
      ]
    },
    {
      "cell_type": "code",
      "metadata": {
        "id": "_hdy0sq4KrZP"
      },
      "source": [
        ""
      ],
      "execution_count": null,
      "outputs": []
    }
  ]
}